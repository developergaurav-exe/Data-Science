{
 "cells": [
  {
   "cell_type": "code",
   "execution_count": null,
   "metadata": {},
   "outputs": [],
   "source": [
    "'''\n",
    "python has built-in sequences (non-primitive data types)\n",
    "- List\n",
    "- Dictonaries\n",
    "- Tuples\n",
    "'''"
   ]
  },
  {
   "cell_type": "markdown",
   "metadata": {},
   "source": [
    "##### By default keys are displayed of a dictionary"
   ]
  },
  {
   "cell_type": "code",
   "execution_count": 17,
   "metadata": {},
   "outputs": [
    {
     "name": "stdout",
     "output_type": "stream",
     "text": [
      "Harsh\n",
      "India\n",
      "20\n",
      "Harsh India 20\n"
     ]
    }
   ],
   "source": [
    "d = {\"Name\": 'Harsh', 'Country': 'India', 'Age': 20}\n",
    "for i in d: # for i in d.keys():\n",
    "    print(d[i])\n",
    "\n",
    "print(*d.values())"
   ]
  },
  {
   "cell_type": "markdown",
   "metadata": {},
   "source": [
    "##### Install Pandas, Numpy, Matplotlib, Seaborn because I am playing in VSCode and not using Jupyter Notebook"
   ]
  },
  {
   "cell_type": "markdown",
   "metadata": {},
   "source": [
    "##### import libraries thourgh these conventional aliases"
   ]
  },
  {
   "cell_type": "code",
   "execution_count": 20,
   "metadata": {},
   "outputs": [],
   "source": [
    "import pandas as pd\n",
    "import numpy as np\n",
    "import matplotlib.pyplot as plt\n",
    "import seaborn as sns"
   ]
  },
  {
   "cell_type": "markdown",
   "metadata": {},
   "source": [
    "#### Numpy\n",
    "##### Stands for Numerical Python\n",
    "\n",
    "It provides:\n",
    "- Data structure called NumPy Array, which is grid of values.\n",
    "- Collection of high-level mathematical functions which can be performed on multi-dimensional Numpy arrays.\n",
    "\n",
    "###### For mathematical computations\n"
   ]
  },
  {
   "cell_type": "markdown",
   "metadata": {},
   "source": [
    "#### Pandas for Data Science\n",
    "##### For exploring, accessing, cleaning, processing tabular data\n",
    "\n",
    "It provides Two ways of storing data:\n",
    "- 1D: Series\n",
    "- 2D: Data Frame\n",
    "\n",
    "###### Built on top of NumPy and borrows many functions from it\n",
    "\n",
    "###### For data manipulation"
   ]
  },
  {
   "cell_type": "markdown",
   "metadata": {},
   "source": [
    "#### Matplotlib for Data Visualization\n",
    "##### For Plotting graphs like bar graphs, histograms, scatter plots and many more.\n",
    "\n",
    "###### Just like Matlab \n"
   ]
  },
  {
   "cell_type": "markdown",
   "metadata": {},
   "source": [
    "#### Seaborn\n",
    "##### Another Data Visualization lib built upon Matplotlib. \n",
    "\n",
    "Extends the functionalities of it and helps in creating variety of graphs with fewer syntax. "
   ]
  }
 ],
 "metadata": {
  "kernelspec": {
   "display_name": "Python 3.10.5 64-bit",
   "language": "python",
   "name": "python3"
  },
  "language_info": {
   "codemirror_mode": {
    "name": "ipython",
    "version": 3
   },
   "file_extension": ".py",
   "mimetype": "text/x-python",
   "name": "python",
   "nbconvert_exporter": "python",
   "pygments_lexer": "ipython3",
   "version": "3.10.5"
  },
  "orig_nbformat": 4,
  "vscode": {
   "interpreter": {
    "hash": "e8899eb02dfbc033aab5733bdae1bd213fa031d40331094008e8673d99ebab63"
   }
  }
 },
 "nbformat": 4,
 "nbformat_minor": 2
}
